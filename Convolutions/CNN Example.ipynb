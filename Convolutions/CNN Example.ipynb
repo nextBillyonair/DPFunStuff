{
 "cells": [
  {
   "cell_type": "code",
   "execution_count": 2,
   "metadata": {},
   "outputs": [
    {
     "data": {
      "text/plain": [
       "<torch._C.Generator at 0x10cf50f10>"
      ]
     },
     "execution_count": 2,
     "metadata": {},
     "output_type": "execute_result"
    }
   ],
   "source": [
    "from __future__ import print_function\n",
    "import torch\n",
    "from torch.nn import Module, Conv2d, Linear\n",
    "from torch.nn.functional import relu, max_pool2d, log_softmax, softmax\n",
    "import torch.optim as optim\n",
    "import matplotlib.pyplot as plt\n",
    "from pprint import pprint\n",
    "import numpy as np\n",
    "\n",
    "from mnist import args, train, test, get_dataloaders\n",
    "\n",
    "torch.manual_seed(args['seed'])"
   ]
  },
  {
   "cell_type": "code",
   "execution_count": 32,
   "metadata": {},
   "outputs": [],
   "source": [
    "def show_weight(weight, title=\"\", show_values=True, x_labels=None, y_labels=None):\n",
    "    data = weight.detach().numpy()\n",
    "    fig, ax = plt.subplots()\n",
    "        \n",
    "    im = ax.imshow(data)\n",
    "    \n",
    "    if x_labels is not None:\n",
    "        ax.set_xticks(np.arange(len(x_labels)))\n",
    "        ax.set_xticklabels(x_labels)\n",
    "        plt.setp(ax.get_xticklabels(), rotation=45, ha=\"right\",\n",
    "                 rotation_mode=\"anchor\")\n",
    "    else:\n",
    "        ax.xaxis.set_visible(False)\n",
    "\n",
    "    if y_labels is not None:\n",
    "        ax.set_yticks(np.arange(len(y_labels)))\n",
    "        ax.set_yticklabels(y_labels)\n",
    "    else:\n",
    "        ax.yaxis.set_visible(False)\n",
    "\n",
    "    if show_values:\n",
    "        for i in range(data.shape[0]):\n",
    "            for j in range(data.shape[1]):\n",
    "                text = ax.text(j, i, f\"{data[i, j]:.2f}\",\n",
    "                               ha=\"center\", va=\"center\", color=\"w\")\n",
    "    ax.set_title(title)\n",
    "    fig.tight_layout()\n",
    "    plt.show()"
   ]
  },
  {
   "cell_type": "code",
   "execution_count": 58,
   "metadata": {},
   "outputs": [],
   "source": [
    "class Net(Module):\n",
    "    def __init__(self):\n",
    "        super(Net, self).__init__()\n",
    "        self.conv = Conv2d(1, 1, 5, 1)\n",
    "        self.fc = Linear(144, 10)\n",
    "\n",
    "    def forward(self, x):\n",
    "        x = relu(self.conv(x))\n",
    "        x = max_pool2d(x, 2, 2)\n",
    "        x = x.view(-1, 144)\n",
    "        x = self.fc(x)\n",
    "        return log_softmax(x, dim=1)"
   ]
  },
  {
   "cell_type": "code",
   "execution_count": 59,
   "metadata": {},
   "outputs": [],
   "source": [
    "# SETUP\n",
    "train_loader, test_loader = get_dataloaders(args)\n",
    "\n",
    "model = Net().to(args['device'])\n",
    "# optimizer = optim.SGD(model.parameters(), \n",
    "#                       lr=args['lr'], \n",
    "#                       momentum=args['momentum'])\n",
    "optimizer = optim.Adam(model.parameters())"
   ]
  },
  {
   "cell_type": "code",
   "execution_count": 60,
   "metadata": {},
   "outputs": [
    {
     "name": "stdout",
     "output_type": "stream",
     "text": [
      "Train Epoch: 1 [0/60000 (0%)]\tLoss: 2.313020\n",
      "Train Epoch: 1 [16000/60000 (27%)]\tLoss: 0.549816\n",
      "Train Epoch: 1 [32000/60000 (53%)]\tLoss: 0.387035\n",
      "Train Epoch: 1 [48000/60000 (80%)]\tLoss: 0.369105\n",
      "\n",
      "Test set: Average loss: 0.2976, Accuracy: 9130/10000 (91%)\n",
      "\n",
      "Train Epoch: 2 [0/60000 (0%)]\tLoss: 0.292961\n",
      "Train Epoch: 2 [16000/60000 (27%)]\tLoss: 0.411959\n",
      "Train Epoch: 2 [32000/60000 (53%)]\tLoss: 0.125970\n",
      "Train Epoch: 2 [48000/60000 (80%)]\tLoss: 0.235000\n",
      "\n",
      "Test set: Average loss: 0.2632, Accuracy: 9240/10000 (92%)\n",
      "\n",
      "Train Epoch: 3 [0/60000 (0%)]\tLoss: 0.284416\n",
      "Train Epoch: 3 [16000/60000 (27%)]\tLoss: 0.214011\n",
      "Train Epoch: 3 [32000/60000 (53%)]\tLoss: 0.454029\n",
      "Train Epoch: 3 [48000/60000 (80%)]\tLoss: 0.223916\n",
      "\n",
      "Test set: Average loss: 0.2509, Accuracy: 9279/10000 (93%)\n",
      "\n",
      "Train Epoch: 4 [0/60000 (0%)]\tLoss: 0.298696\n",
      "Train Epoch: 4 [16000/60000 (27%)]\tLoss: 0.192269\n",
      "Train Epoch: 4 [32000/60000 (53%)]\tLoss: 0.278990\n",
      "Train Epoch: 4 [48000/60000 (80%)]\tLoss: 0.131646\n",
      "\n",
      "Test set: Average loss: 0.2521, Accuracy: 9243/10000 (92%)\n",
      "\n",
      "Train Epoch: 5 [0/60000 (0%)]\tLoss: 0.186074\n",
      "Train Epoch: 5 [16000/60000 (27%)]\tLoss: 0.352504\n",
      "Train Epoch: 5 [32000/60000 (53%)]\tLoss: 0.110538\n",
      "Train Epoch: 5 [48000/60000 (80%)]\tLoss: 0.235154\n",
      "\n",
      "Test set: Average loss: 0.2395, Accuracy: 9295/10000 (93%)\n",
      "\n",
      "Train Epoch: 6 [0/60000 (0%)]\tLoss: 0.342618\n",
      "Train Epoch: 6 [16000/60000 (27%)]\tLoss: 0.137211\n",
      "Train Epoch: 6 [32000/60000 (53%)]\tLoss: 0.531941\n",
      "Train Epoch: 6 [48000/60000 (80%)]\tLoss: 0.235658\n",
      "\n",
      "Test set: Average loss: 0.2401, Accuracy: 9300/10000 (93%)\n",
      "\n",
      "Train Epoch: 7 [0/60000 (0%)]\tLoss: 0.129529\n",
      "Train Epoch: 7 [16000/60000 (27%)]\tLoss: 0.302248\n",
      "Train Epoch: 7 [32000/60000 (53%)]\tLoss: 0.211067\n",
      "Train Epoch: 7 [48000/60000 (80%)]\tLoss: 0.167925\n",
      "\n",
      "Test set: Average loss: 0.2367, Accuracy: 9313/10000 (93%)\n",
      "\n",
      "Train Epoch: 8 [0/60000 (0%)]\tLoss: 0.185100\n",
      "Train Epoch: 8 [16000/60000 (27%)]\tLoss: 0.168480\n",
      "Train Epoch: 8 [32000/60000 (53%)]\tLoss: 0.129713\n",
      "Train Epoch: 8 [48000/60000 (80%)]\tLoss: 0.277083\n",
      "\n",
      "Test set: Average loss: 0.2381, Accuracy: 9300/10000 (93%)\n",
      "\n",
      "Train Epoch: 9 [0/60000 (0%)]\tLoss: 0.309710\n",
      "Train Epoch: 9 [16000/60000 (27%)]\tLoss: 0.196352\n",
      "Train Epoch: 9 [32000/60000 (53%)]\tLoss: 0.148659\n",
      "Train Epoch: 9 [48000/60000 (80%)]\tLoss: 0.201204\n",
      "\n",
      "Test set: Average loss: 0.2357, Accuracy: 9306/10000 (93%)\n",
      "\n",
      "Train Epoch: 10 [0/60000 (0%)]\tLoss: 0.171494\n",
      "Train Epoch: 10 [16000/60000 (27%)]\tLoss: 0.157336\n",
      "Train Epoch: 10 [32000/60000 (53%)]\tLoss: 0.297634\n",
      "Train Epoch: 10 [48000/60000 (80%)]\tLoss: 0.271232\n",
      "\n",
      "Test set: Average loss: 0.2340, Accuracy: 9307/10000 (93%)\n",
      "\n"
     ]
    }
   ],
   "source": [
    "# Train\n",
    "for epoch in range(1, args['epochs'] + 1):\n",
    "    train(args, model, train_loader, optimizer, epoch)\n",
    "    test(args, model, test_loader)"
   ]
  },
  {
   "cell_type": "code",
   "execution_count": 63,
   "metadata": {},
   "outputs": [
    {
     "data": {
      "image/png": "[encoded data removed]",
      "text/plain": [
       "<Figure size 432x288 with 1 Axes>"
      ]
     },
     "metadata": {
      "needs_background": "light"
     },
     "output_type": "display_data"
    }
   ],
   "source": [
    "show_weight(model.conv.weight[0][0], \"Convolutional Weights\")"
   ]
  },
  {
   "cell_type": "code",
   "execution_count": 67,
   "metadata": {},
   "outputs": [
    {
     "data": {
      "image/png": "[encoded data removed]",
      "text/plain": [
       "<Figure size 432x288 with 1 Axes>"
      ]
     },
     "metadata": {
      "needs_background": "light"
     },
     "output_type": "display_data"
    },
    {
     "data": {
      "image/png": "[encoded data removed]",
      "text/plain": [
       "<Figure size 432x288 with 1 Axes>"
      ]
     },
     "metadata": {
      "needs_background": "light"
     },
     "output_type": "display_data"
    },
    {
     "data": {
      "image/png": "[encoded data removed]",
      "text/plain": [
       "<Figure size 432x288 with 1 Axes>"
      ]
     },
     "metadata": {
      "needs_background": "light"
     },
     "output_type": "display_data"
    },
    {
     "data": {
      "image/png": "[encoded data removed]",
      "text/plain": [
       "<Figure size 432x288 with 1 Axes>"
      ]
     },
     "metadata": {
      "needs_background": "light"
     },
     "output_type": "display_data"
    },
    {
     "data": {
      "image/png": "[encoded data removed]",
      "text/plain": [
       "<Figure size 432x288 with 1 Axes>"
      ]
     },
     "metadata": {
      "needs_background": "light"
     },
     "output_type": "display_data"
    },
    {
     "data": {
      "image/png": "[encoded data removed]",
      "text/plain": [
       "<Figure size 432x288 with 1 Axes>"
      ]
     },
     "metadata": {
      "needs_background": "light"
     },
     "output_type": "display_data"
    },
    {
     "data": {
      "image/png": "[encoded data removed]",
      "text/plain": [
       "<Figure size 432x288 with 1 Axes>"
      ]
     },
     "metadata": {
      "needs_background": "light"
     },
     "output_type": "display_data"
    },
    {
     "data": {
      "image/png": "[encoded data removed]",
      "text/plain": [
       "<Figure size 432x288 with 1 Axes>"
      ]
     },
     "metadata": {
      "needs_background": "light"
     },
     "output_type": "display_data"
    },
    {
     "data": {
      "image/png": "[encoded data removed]",
      "text/plain": [
       "<Figure size 432x288 with 1 Axes>"
      ]
     },
     "metadata": {
      "needs_background": "light"
     },
     "output_type": "display_data"
    },
    {
     "data": {
      "image/png": "[encoded data removed]",
      "text/plain": [
       "<Figure size 432x288 with 1 Axes>"
      ]
     },
     "metadata": {
      "needs_background": "light"
     },
     "output_type": "display_data"
    }
   ],
   "source": [
    "for i in range(10):\n",
    "    show_weight(model.fc.weight[i].reshape(12,12), f\"Linear Layer Weights {i}\", show_values=False)"
   ]
  },
  {
   "cell_type": "code",
   "execution_count": 68,
   "metadata": {},
   "outputs": [
    {
     "name": "stdout",
     "output_type": "stream",
     "text": [
      "tensor(9)\n"
     ]
    },
    {
     "data": {
      "image/png": "[encoded data removed]",
      "text/plain": [
       "<Figure size 432x288 with 1 Axes>"
      ]
     },
     "metadata": {
      "needs_background": "light"
     },
     "output_type": "display_data"
    }
   ],
   "source": [
    "data, target = next(iter(test_loader))\n",
    "print(target[0])\n",
    "show_weight(data[0][0], title=\"Input\", show_values=False)"
   ]
  },
  {
   "cell_type": "code",
   "execution_count": 69,
   "metadata": {},
   "outputs": [
    {
     "data": {
      "image/png": "[encoded data removed]",
      "text/plain": [
       "<Figure size 432x288 with 1 Axes>"
      ]
     },
     "metadata": {
      "needs_background": "light"
     },
     "output_type": "display_data"
    }
   ],
   "source": [
    "img = data[0].unsqueeze(dim=0)\n",
    "conv_ret = model.conv(img)\n",
    "show_weight(conv_ret[0][0], title=\"First Conv\", show_values=False)"
   ]
  },
  {
   "cell_type": "code",
   "execution_count": 70,
   "metadata": {},
   "outputs": [
    {
     "data": {
      "image/png": "[encoded data removed]",
      "text/plain": [
       "<Figure size 432x288 with 1 Axes>"
      ]
     },
     "metadata": {
      "needs_background": "light"
     },
     "output_type": "display_data"
    }
   ],
   "source": [
    "relu_ret = relu(conv_ret)\n",
    "show_weight(relu_ret[0][0], title=\"ReLU\", show_values=False)"
   ]
  },
  {
   "cell_type": "code",
   "execution_count": 71,
   "metadata": {},
   "outputs": [
    {
     "name": "stdout",
     "output_type": "stream",
     "text": [
      "torch.Size([1, 1, 24, 24])\n",
      "torch.Size([1, 1, 12, 12])\n"
     ]
    },
    {
     "data": {
      "image/png": "[encoded data removed]",
      "text/plain": [
       "<Figure size 432x288 with 1 Axes>"
      ]
     },
     "metadata": {
      "needs_background": "light"
     },
     "output_type": "display_data"
    }
   ],
   "source": [
    "print(relu_ret.shape)\n",
    "max_pool_ret = max_pool2d(relu_ret, 2, 2)\n",
    "print(max_pool_ret.shape)\n",
    "show_weight(max_pool_ret[0][0], title=\"Max Pool\", show_values=False)"
   ]
  },
  {
   "cell_type": "code",
   "execution_count": 72,
   "metadata": {},
   "outputs": [
    {
     "data": {
      "image/png": "[encoded data removed]",
      "text/plain": [
       "<Figure size 432x288 with 1 Axes>"
      ]
     },
     "metadata": {
      "needs_background": "light"
     },
     "output_type": "display_data"
    }
   ],
   "source": [
    "fc_ret = max_pool_ret.view(-1, 144)\n",
    "fc_ret = model.fc(fc_ret)\n",
    "show_weight(fc_ret, title=\"Linear Output\", show_values=True, x_labels=range(0, 10))"
   ]
  },
  {
   "cell_type": "code",
   "execution_count": null,
   "metadata": {},
   "outputs": [],
   "source": []
  },
  {
   "cell_type": "code",
   "execution_count": null,
   "metadata": {},
   "outputs": [],
   "source": []
  },
  {
   "cell_type": "code",
   "execution_count": null,
   "metadata": {},
   "outputs": [],
   "source": []
  }
 ],
 "metadata": {
  "kernelspec": {
   "display_name": "Python 3",
   "language": "python",
   "name": "python3"
  },
  "language_info": {
   "codemirror_mode": {
    "name": "ipython",
    "version": 3
   },
   "file_extension": ".py",
   "mimetype": "text/x-python",
   "name": "python",
   "nbconvert_exporter": "python",
   "pygments_lexer": "ipython3",
   "version": "3.7.3"
  }
 },
 "nbformat": 4,
 "nbformat_minor": 2
}
