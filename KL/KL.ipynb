{
 "cells": [
  {
   "cell_type": "code",
   "execution_count": 3,
   "metadata": {},
   "outputs": [],
   "source": [
    "import torch\n",
    "import numpy as np\n",
    "import matplotlib.pyplot as plt\n",
    "from torch.nn import Module, Parameter\n",
    "import torch.optim as optim\n",
    "import math"
   ]
  },
  {
   "cell_type": "code",
   "execution_count": 14,
   "metadata": {},
   "outputs": [],
   "source": [
    "class Distribution(Module):\n",
    "    \n",
    "    def __init__(self):\n",
    "        super(Distribution, self).__init__()\n",
    "        \n",
    "    def log_prob(self, x):\n",
    "        raise NotImplementedError(\"Log Prob Not Allowed\")\n",
    "        \n",
    "    def sample(self):\n",
    "        raise NotImplementedError(\"Sampling Not Allowed\")\n",
    "        "
   ]
  },
  {
   "cell_type": "code",
   "execution_count": 401,
   "metadata": {},
   "outputs": [],
   "source": [
    "class Normal(Distribution):\n",
    "    \n",
    "    def __init__(self, means=None, stds=None, dims=1):\n",
    "        super(Normal, self).__init__()\n",
    "        if means is None:\n",
    "            self.mu = Parameter(torch.Tensor(1, dims).uniform_(-1, 1))\n",
    "        else:\n",
    "            self.mu = means\n",
    "        if stds is None:\n",
    "            self.std = Parameter(torch.Tensor(1, dims).uniform_(0, 1))\n",
    "        else:\n",
    "            self.std = stds\n",
    "        \n",
    "    def log_prob(self, x):\n",
    "        prob = torch.exp(-((x-self.mu)**2) / (2*(self.std**2)))\n",
    "        prob = (1.0 / torch.sqrt(2 * math.pi * (self.std**2))) * prob\n",
    "        return torch.log(prob+1e-10)\n",
    "    \n",
    "    def _sample(self):\n",
    "        return self.mu + self.std * torch.randn(self.std.size())\n",
    "    \n",
    "    def sample(self, n=1):\n",
    "        return torch.cat([self._sample() for _ in range(n)])"
   ]
  },
  {
   "cell_type": "code",
   "execution_count": 402,
   "metadata": {},
   "outputs": [
    {
     "data": {
      "image/png": "[encoded data removed]",
      "text/plain": [
       "<Figure size 432x288 with 1 Axes>"
      ]
     },
     "metadata": {
      "needs_background": "light"
     },
     "output_type": "display_data"
    }
   ],
   "source": [
    "n = Normal(dims=1)\n",
    "plt.hist([n.sample().item() for _ in range(10000)], bins=100)\n",
    "# values = np.array([n.sample().detach().numpy()[0] for _ in range(1000)])\n",
    "# plt.plot(n.sample()\n",
    "# plt.scatter(values[:, 0], values[:, 1])\n",
    "plt.show()"
   ]
  },
  {
   "cell_type": "code",
   "execution_count": 403,
   "metadata": {},
   "outputs": [],
   "source": [
    "def ForwardKL(samples, distribution):\n",
    "    return -distribution.log_prob(samples).sum()"
   ]
  },
  {
   "cell_type": "code",
   "execution_count": 404,
   "metadata": {},
   "outputs": [],
   "source": [
    "model = Normal(dims=1)\n",
    "optimizer = optim.Adam(model.parameters(), lr=0.01)"
   ]
  },
  {
   "cell_type": "code",
   "execution_count": 405,
   "metadata": {},
   "outputs": [],
   "source": [
    "samples = torch.normal(mean=torch.zeros(64).fill_(-2.5), \n",
    "                       std=torch.ones(64).fill_(6.0))"
   ]
  },
  {
   "cell_type": "code",
   "execution_count": 406,
   "metadata": {},
   "outputs": [],
   "source": [
    "# model.log_prob(samples)"
   ]
  },
  {
   "cell_type": "code",
   "execution_count": null,
   "metadata": {},
   "outputs": [
    {
     "name": "stdout",
     "output_type": "stream",
     "text": [
      "Epoch 0 Loss: 790.093\n",
      "Epoch 100 Loss: 424.128\n",
      "Epoch 200 Loss: 327.702\n",
      "Epoch 300 Loss: 274.807\n",
      "Epoch 400 Loss: 249.329\n",
      "Epoch 500 Loss: 235.703\n",
      "Epoch 600 Loss: 227.191\n",
      "Epoch 700 Loss: 221.405\n",
      "Epoch 800 Loss: 217.258\n",
      "Epoch 900 Loss: 214.173\n"
     ]
    }
   ],
   "source": [
    "for i in range(1500):\n",
    "    optimizer.zero_grad()\n",
    "\n",
    "    loss = ForwardKL(samples, model)\n",
    "    loss.backward()\n",
    "    optimizer.step()\n",
    "    if i % 100 == 0:\n",
    "        print(f\"Epoch {i} Loss: {loss.item():.3f}\")"
   ]
  },
  {
   "cell_type": "code",
   "execution_count": 376,
   "metadata": {},
   "outputs": [
    {
     "name": "stdout",
     "output_type": "stream",
     "text": [
      "Parameter containing:\n",
      "tensor([[-2.5851]], requires_grad=True) Parameter containing:\n",
      "tensor([[5.1270]], requires_grad=True)\n"
     ]
    }
   ],
   "source": [
    "print(model.mu, model.std)"
   ]
  },
  {
   "cell_type": "code",
   "execution_count": null,
   "metadata": {},
   "outputs": [],
   "source": []
  },
  {
   "cell_type": "code",
   "execution_count": 377,
   "metadata": {},
   "outputs": [],
   "source": [
    "class Normal_No_Sample(Distribution):\n",
    "    \n",
    "    def __init__(self, means=None, stds=None, dims=1):\n",
    "        super(Normal_No_Sample, self).__init__()\n",
    "        if means is None:\n",
    "            self.mu = Parameter(torch.Tensor(1, dims).uniform_(-1, 1))\n",
    "        else:\n",
    "            self.mu = means\n",
    "        if stds is None:\n",
    "            self.std = Parameter(torch.Tensor(1, dims).uniform_(0, 1))\n",
    "        else:\n",
    "            self.std = stds\n",
    "        \n",
    "    def log_prob(self, x):\n",
    "        prob = torch.exp(-((x-self.mu)**2) / (2*(self.std**2)))\n",
    "        prob = (1.0 / torch.sqrt(2 * math.pi * (self.std**2))) * prob\n",
    "        return torch.log(prob+1e-10)"
   ]
  },
  {
   "cell_type": "code",
   "execution_count": 394,
   "metadata": {},
   "outputs": [
    {
     "name": "stdout",
     "output_type": "stream",
     "text": [
      "Parameter containing:\n",
      "tensor([[5.]], grad_fn=<CopySlices>) Parameter containing:\n",
      "tensor([[2.]], grad_fn=<CopySlices>)\n",
      "Parameter containing:\n",
      "tensor([[0.7807]], requires_grad=True) Parameter containing:\n",
      "tensor([[0.1378]], requires_grad=True)\n"
     ]
    }
   ],
   "source": [
    "truth = Normal_No_Sample()\n",
    "model = Normal()\n",
    "\n",
    "print(truth.mu, truth.std)\n",
    "print(model.mu, model.std)"
   ]
  },
  {
   "cell_type": "code",
   "execution_count": 395,
   "metadata": {},
   "outputs": [],
   "source": [
    "def ReverseKL(q, p, batch_size=64):\n",
    "    samples = q.sample(batch_size)\n",
    "    return -(p.log_prob(samples) - q.log_prob(samples)).sum()\n",
    "    "
   ]
  },
  {
   "cell_type": "code",
   "execution_count": 396,
   "metadata": {},
   "outputs": [],
   "source": [
    "optimizer = optim.Adam(model.parameters(), lr=0.01)"
   ]
  },
  {
   "cell_type": "code",
   "execution_count": 397,
   "metadata": {},
   "outputs": [
    {
     "ename": "RuntimeError",
     "evalue": "leaf variable has been moved into the graph interior",
     "output_type": "error",
     "traceback": [
      "\u001b[0;31m---------------------------------------------------------------------------\u001b[0m",
      "\u001b[0;31mRuntimeError\u001b[0m                              Traceback (most recent call last)",
      "\u001b[0;32m<ipython-input-397-72102c127bf1>\u001b[0m in \u001b[0;36m<module>\u001b[0;34m()\u001b[0m\n\u001b[1;32m      3\u001b[0m \u001b[0;34m\u001b[0m\u001b[0m\n\u001b[1;32m      4\u001b[0m     \u001b[0mloss\u001b[0m \u001b[0;34m=\u001b[0m \u001b[0mReverseKL\u001b[0m\u001b[0;34m(\u001b[0m\u001b[0mmodel\u001b[0m\u001b[0;34m,\u001b[0m \u001b[0mtruth\u001b[0m\u001b[0;34m)\u001b[0m\u001b[0;34m\u001b[0m\u001b[0;34m\u001b[0m\u001b[0m\n\u001b[0;32m----> 5\u001b[0;31m     \u001b[0mloss\u001b[0m\u001b[0;34m.\u001b[0m\u001b[0mbackward\u001b[0m\u001b[0;34m(\u001b[0m\u001b[0;34m)\u001b[0m\u001b[0;34m\u001b[0m\u001b[0;34m\u001b[0m\u001b[0m\n\u001b[0m\u001b[1;32m      6\u001b[0m     \u001b[0moptimizer\u001b[0m\u001b[0;34m.\u001b[0m\u001b[0mstep\u001b[0m\u001b[0;34m(\u001b[0m\u001b[0;34m)\u001b[0m\u001b[0;34m\u001b[0m\u001b[0;34m\u001b[0m\u001b[0m\n\u001b[1;32m      7\u001b[0m     \u001b[0;32mif\u001b[0m \u001b[0mi\u001b[0m \u001b[0;34m%\u001b[0m \u001b[0;36m100\u001b[0m \u001b[0;34m==\u001b[0m \u001b[0;36m0\u001b[0m\u001b[0;34m:\u001b[0m\u001b[0;34m\u001b[0m\u001b[0;34m\u001b[0m\u001b[0m\n",
      "\u001b[0;32m/usr/local/lib/python3.7/site-packages/torch/tensor.py\u001b[0m in \u001b[0;36mbackward\u001b[0;34m(self, gradient, retain_graph, create_graph)\u001b[0m\n\u001b[1;32m    100\u001b[0m                 \u001b[0mproducts\u001b[0m\u001b[0;34m.\u001b[0m \u001b[0mDefaults\u001b[0m \u001b[0mto\u001b[0m\u001b[0;31m \u001b[0m\u001b[0;31m`\u001b[0m\u001b[0;31m`\u001b[0m\u001b[0;32mFalse\u001b[0m\u001b[0;31m`\u001b[0m\u001b[0;31m`\u001b[0m\u001b[0;34m.\u001b[0m\u001b[0;34m\u001b[0m\u001b[0;34m\u001b[0m\u001b[0m\n\u001b[1;32m    101\u001b[0m         \"\"\"\n\u001b[0;32m--> 102\u001b[0;31m         \u001b[0mtorch\u001b[0m\u001b[0;34m.\u001b[0m\u001b[0mautograd\u001b[0m\u001b[0;34m.\u001b[0m\u001b[0mbackward\u001b[0m\u001b[0;34m(\u001b[0m\u001b[0mself\u001b[0m\u001b[0;34m,\u001b[0m \u001b[0mgradient\u001b[0m\u001b[0;34m,\u001b[0m \u001b[0mretain_graph\u001b[0m\u001b[0;34m,\u001b[0m \u001b[0mcreate_graph\u001b[0m\u001b[0;34m)\u001b[0m\u001b[0;34m\u001b[0m\u001b[0;34m\u001b[0m\u001b[0m\n\u001b[0m\u001b[1;32m    103\u001b[0m \u001b[0;34m\u001b[0m\u001b[0m\n\u001b[1;32m    104\u001b[0m     \u001b[0;32mdef\u001b[0m \u001b[0mregister_hook\u001b[0m\u001b[0;34m(\u001b[0m\u001b[0mself\u001b[0m\u001b[0;34m,\u001b[0m \u001b[0mhook\u001b[0m\u001b[0;34m)\u001b[0m\u001b[0;34m:\u001b[0m\u001b[0;34m\u001b[0m\u001b[0;34m\u001b[0m\u001b[0m\n",
      "\u001b[0;32m/usr/local/lib/python3.7/site-packages/torch/autograd/__init__.py\u001b[0m in \u001b[0;36mbackward\u001b[0;34m(tensors, grad_tensors, retain_graph, create_graph, grad_variables)\u001b[0m\n\u001b[1;32m     88\u001b[0m     Variable._execution_engine.run_backward(\n\u001b[1;32m     89\u001b[0m         \u001b[0mtensors\u001b[0m\u001b[0;34m,\u001b[0m \u001b[0mgrad_tensors\u001b[0m\u001b[0;34m,\u001b[0m \u001b[0mretain_graph\u001b[0m\u001b[0;34m,\u001b[0m \u001b[0mcreate_graph\u001b[0m\u001b[0;34m,\u001b[0m\u001b[0;34m\u001b[0m\u001b[0;34m\u001b[0m\u001b[0m\n\u001b[0;32m---> 90\u001b[0;31m         allow_unreachable=True)  # allow_unreachable flag\n\u001b[0m\u001b[1;32m     91\u001b[0m \u001b[0;34m\u001b[0m\u001b[0m\n\u001b[1;32m     92\u001b[0m \u001b[0;34m\u001b[0m\u001b[0m\n",
      "\u001b[0;31mRuntimeError\u001b[0m: leaf variable has been moved into the graph interior"
     ]
    }
   ],
   "source": [
    "for i in range(1500):\n",
    "    optimizer.zero_grad()\n",
    "\n",
    "    loss = ReverseKL(model, truth)\n",
    "    loss.backward()\n",
    "    optimizer.step()\n",
    "    if i % 100 == 0:\n",
    "        print(f\"Epoch {i} Loss: {loss.item():.3f}\")"
   ]
  },
  {
   "cell_type": "code",
   "execution_count": 398,
   "metadata": {},
   "outputs": [
    {
     "name": "stdout",
     "output_type": "stream",
     "text": [
      "Parameter containing:\n",
      "tensor([[5.]], grad_fn=<CopySlices>) Parameter containing:\n",
      "tensor([[2.]], grad_fn=<CopySlices>)\n",
      "Parameter containing:\n",
      "tensor([[0.7807]], requires_grad=True) Parameter containing:\n",
      "tensor([[0.1378]], requires_grad=True)\n"
     ]
    }
   ],
   "source": [
    "print(truth.mu, truth.std)\n",
    "print(model.mu, model.std)"
   ]
  },
  {
   "cell_type": "code",
   "execution_count": null,
   "metadata": {},
   "outputs": [],
   "source": []
  }
 ],
 "metadata": {
  "kernelspec": {
   "display_name": "Python 3",
   "language": "python",
   "name": "python3"
  },
  "language_info": {
   "codemirror_mode": {
    "name": "ipython",
    "version": 3
   },
   "file_extension": ".py",
   "mimetype": "text/x-python",
   "name": "python",
   "nbconvert_exporter": "python",
   "pygments_lexer": "ipython3",
   "version": "3.7.3"
  }
 },
 "nbformat": 4,
 "nbformat_minor": 2
}
